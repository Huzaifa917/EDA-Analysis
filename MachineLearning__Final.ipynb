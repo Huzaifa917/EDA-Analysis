{
  "nbformat": 4,
  "nbformat_minor": 0,
  "metadata": {
    "colab": {
      "provenance": [],
      "toc_visible": true
    },
    "kernelspec": {
      "name": "python3",
      "display_name": "Python 3"
    },
    "language_info": {
      "name": "python"
    }
  },
  "cells": [
    {
      "cell_type": "code",
      "execution_count": null,
      "metadata": {
        "id": "KlP0kojXmW4W"
      },
      "outputs": [],
      "source": [
        "import pandas as pd\n",
        "from sklearn.model_selection import train_test_split\n",
        "from sklearn.preprocessing import StandardScaler\n",
        "from sklearn.svm import SVC\n",
        "from sklearn.ensemble import RandomForestClassifier\n",
        "from sklearn.neural_network import MLPClassifier\n",
        "from sklearn.metrics import accuracy_score, precision_score, recall_score, f1_score, confusion_matrix"
      ]
    },
    {
      "cell_type": "code",
      "source": [
        "# Load the dataset\n",
        "df = pd.read_csv('activity.csv', encoding='unicode_escape')\n"
      ],
      "metadata": {
        "id": "52VJ-ObCpBKQ"
      },
      "execution_count": null,
      "outputs": []
    },
    {
      "cell_type": "code",
      "source": [
        "df.dropna(inplace=True)  # Drop rows with missing values"
      ],
      "metadata": {
        "id": "XcuOzZ_AqUYT"
      },
      "execution_count": null,
      "outputs": []
    },
    {
      "cell_type": "code",
      "source": [
        "print(df.head())"
      ],
      "metadata": {
        "colab": {
          "base_uri": "https://localhost:8080/"
        },
        "id": "PAB9W873rEHt",
        "outputId": "3c06088f-90d3-40ee-9dba-20fe5628e996"
      },
      "execution_count": null,
      "outputs": [
        {
          "output_type": "stream",
          "name": "stdout",
          "text": [
            "   _id  orX  orY  orZ        rX        rY        rZ      accX     accY  \\\n",
            "0    1  125  -17    2  0.070997 -0.131696 -0.877469 -0.038307  2.68151   \n",
            "1    2  126  -17    2  0.071486 -0.131480 -0.878024 -0.038307  2.68151   \n",
            "2    3  127  -17    2  0.071401 -0.131551 -0.878799  0.153229  2.68151   \n",
            "3    4  127  -17    2  0.071401 -0.131551 -0.878799  0.153229  2.68151   \n",
            "4    5  127  -17    2  0.070772 -0.131888 -0.879645  0.153229  2.68151   \n",
            "\n",
            "      accZ        gX       gY       gZ    mX    mY    mZ   lux  soundLevel  \\\n",
            "0  8.65743 -0.041316  2.67655  8.64271 -31.2 -35.6 -37.6  5000       49.56   \n",
            "1  8.65743 -0.054196  2.67834  8.64654 -31.2 -36.0 -37.2  5000       53.38   \n",
            "2  8.65743 -0.056867  2.68004  8.65088 -31.2 -36.0 -37.2  5000       53.38   \n",
            "3  8.65743 -0.056867  2.68004  8.65088 -31.2 -36.0 -37.2  5000       49.53   \n",
            "4  8.65743 -0.049128  2.68130  8.65458 -31.2 -35.6 -36.8  5000       49.53   \n",
            "\n",
            "  activity  \n",
            "0  Sitting  \n",
            "1  Sitting  \n",
            "2  Sitting  \n",
            "3  Sitting  \n",
            "4  Sitting  \n"
          ]
        }
      ]
    },
    {
      "cell_type": "code",
      "source": [
        "# Get the unique features in the 'attribute' column\n",
        "unique_features = df['activity'].unique()\n",
        "\n",
        "# Print the names of unique features\n",
        "print(\"Unique features in the 'attribute' column:\")\n",
        "for feature in unique_features:\n",
        "    print(feature)\n",
        "\n"
      ],
      "metadata": {
        "colab": {
          "base_uri": "https://localhost:8080/"
        },
        "id": "mVm32uFiwb-G",
        "outputId": "bf16e125-857a-4b69-fdc3-a6b45c3ab7e3"
      },
      "execution_count": null,
      "outputs": [
        {
          "output_type": "stream",
          "name": "stdout",
          "text": [
            "Unique features in the 'attribute' column:\n",
            "Sitting\n",
            "ClimbingDownStairs\n",
            "Walking\n",
            "Standing\n",
            "ClimbingUpStairs\n",
            "Jogging\n",
            "Lying\n",
            "Running\n",
            "Driving\n",
            "MountainAscending\n",
            "MountainDescending\n",
            "DescendingStairs\n",
            "AscendingStairs\n"
          ]
        }
      ]
    },
    {
      "cell_type": "code",
      "source": [
        "# Step 3: Split the data\n",
        "X = df.drop('activity', axis=1)  # Features\n",
        "y = df['activity']  # Target variable"
      ],
      "metadata": {
        "id": "-k3Ts7N634mN"
      },
      "execution_count": null,
      "outputs": []
    },
    {
      "cell_type": "code",
      "source": [
        "columns_to_drop = ['lux', 'soundLevel']  # Specify the columns to be dropped"
      ],
      "metadata": {
        "id": "lJrrHtHyd8Pz"
      },
      "execution_count": null,
      "outputs": []
    },
    {
      "cell_type": "code",
      "source": [
        "data = df.drop(columns=columns_to_drop)"
      ],
      "metadata": {
        "id": "wpM8XJnfeWSw"
      },
      "execution_count": null,
      "outputs": []
    },
    {
      "cell_type": "code",
      "source": [
        "print(data.head())"
      ],
      "metadata": {
        "colab": {
          "base_uri": "https://localhost:8080/"
        },
        "id": "s-OWgueteh_O",
        "outputId": "1d00bfa0-8ce6-43ce-8f2a-68a411b6dc0e"
      },
      "execution_count": null,
      "outputs": [
        {
          "output_type": "stream",
          "name": "stdout",
          "text": [
            "   _id  orX  orY  orZ        rX        rY        rZ      accX     accY  \\\n",
            "0    1  125  -17    2  0.070997 -0.131696 -0.877469 -0.038307  2.68151   \n",
            "1    2  126  -17    2  0.071486 -0.131480 -0.878024 -0.038307  2.68151   \n",
            "2    3  127  -17    2  0.071401 -0.131551 -0.878799  0.153229  2.68151   \n",
            "3    4  127  -17    2  0.071401 -0.131551 -0.878799  0.153229  2.68151   \n",
            "4    5  127  -17    2  0.070772 -0.131888 -0.879645  0.153229  2.68151   \n",
            "\n",
            "      accZ        gX       gY       gZ    mX    mY    mZ activity  \n",
            "0  8.65743 -0.041316  2.67655  8.64271 -31.2 -35.6 -37.6  Sitting  \n",
            "1  8.65743 -0.054196  2.67834  8.64654 -31.2 -36.0 -37.2  Sitting  \n",
            "2  8.65743 -0.056867  2.68004  8.65088 -31.2 -36.0 -37.2  Sitting  \n",
            "3  8.65743 -0.056867  2.68004  8.65088 -31.2 -36.0 -37.2  Sitting  \n",
            "4  8.65743 -0.049128  2.68130  8.65458 -31.2 -35.6 -36.8  Sitting  \n"
          ]
        }
      ]
    },
    {
      "cell_type": "code",
      "source": [
        "# Step 3: Split the data\n",
        "X = data.drop('activity', axis=1)  # Features\n",
        "y = data['activity']  # Target variable"
      ],
      "metadata": {
        "id": "TOskWCfGfK_0"
      },
      "execution_count": null,
      "outputs": []
    },
    {
      "cell_type": "code",
      "source": [
        "X_train, X_test, y_train, y_test = train_test_split(X, y, test_size=0.2, random_state=42)\n"
      ],
      "metadata": {
        "id": "iA12YpGf4yxX"
      },
      "execution_count": null,
      "outputs": []
    },
    {
      "cell_type": "markdown",
      "source": [
        "Feature Scaling"
      ],
      "metadata": {
        "id": "vf6UHPrj5EQr"
      }
    },
    {
      "cell_type": "code",
      "source": [
        "scaler = StandardScaler()\n",
        "X_train_scaled = scaler.fit_transform(X_train)\n",
        "X_test_scaled = scaler.transform(X_test)"
      ],
      "metadata": {
        "id": "kphoCQmX5GFy"
      },
      "execution_count": null,
      "outputs": []
    },
    {
      "cell_type": "code",
      "source": [
        "svm_model = SVC()\n",
        "rf_model = RandomForestClassifier()\n",
        "mlp_model = MLPClassifier()"
      ],
      "metadata": {
        "id": "DQdpLsRa5Hyk"
      },
      "execution_count": null,
      "outputs": []
    },
    {
      "cell_type": "code",
      "source": [
        "svm_model.fit(X_train_scaled, y_train)\n",
        "rf_model.fit(X_train_scaled, y_train)\n",
        "mlp_model.fit(X_train_scaled, y_train)\n"
      ],
      "metadata": {
        "colab": {
          "base_uri": "https://localhost:8080/",
          "height": 129
        },
        "id": "jcYpfKYhQznc",
        "outputId": "b261fb68-ee35-446a-bfc4-b404c59f8e2e"
      },
      "execution_count": null,
      "outputs": [
        {
          "output_type": "stream",
          "name": "stderr",
          "text": [
            "/usr/local/lib/python3.10/dist-packages/sklearn/neural_network/_multilayer_perceptron.py:686: ConvergenceWarning: Stochastic Optimizer: Maximum iterations (200) reached and the optimization hasn't converged yet.\n",
            "  warnings.warn(\n"
          ]
        },
        {
          "output_type": "execute_result",
          "data": {
            "text/plain": [
              "MLPClassifier()"
            ],
            "text/html": [
              "<style>#sk-container-id-2 {color: black;background-color: white;}#sk-container-id-2 pre{padding: 0;}#sk-container-id-2 div.sk-toggleable {background-color: white;}#sk-container-id-2 label.sk-toggleable__label {cursor: pointer;display: block;width: 100%;margin-bottom: 0;padding: 0.3em;box-sizing: border-box;text-align: center;}#sk-container-id-2 label.sk-toggleable__label-arrow:before {content: \"▸\";float: left;margin-right: 0.25em;color: #696969;}#sk-container-id-2 label.sk-toggleable__label-arrow:hover:before {color: black;}#sk-container-id-2 div.sk-estimator:hover label.sk-toggleable__label-arrow:before {color: black;}#sk-container-id-2 div.sk-toggleable__content {max-height: 0;max-width: 0;overflow: hidden;text-align: left;background-color: #f0f8ff;}#sk-container-id-2 div.sk-toggleable__content pre {margin: 0.2em;color: black;border-radius: 0.25em;background-color: #f0f8ff;}#sk-container-id-2 input.sk-toggleable__control:checked~div.sk-toggleable__content {max-height: 200px;max-width: 100%;overflow: auto;}#sk-container-id-2 input.sk-toggleable__control:checked~label.sk-toggleable__label-arrow:before {content: \"▾\";}#sk-container-id-2 div.sk-estimator input.sk-toggleable__control:checked~label.sk-toggleable__label {background-color: #d4ebff;}#sk-container-id-2 div.sk-label input.sk-toggleable__control:checked~label.sk-toggleable__label {background-color: #d4ebff;}#sk-container-id-2 input.sk-hidden--visually {border: 0;clip: rect(1px 1px 1px 1px);clip: rect(1px, 1px, 1px, 1px);height: 1px;margin: -1px;overflow: hidden;padding: 0;position: absolute;width: 1px;}#sk-container-id-2 div.sk-estimator {font-family: monospace;background-color: #f0f8ff;border: 1px dotted black;border-radius: 0.25em;box-sizing: border-box;margin-bottom: 0.5em;}#sk-container-id-2 div.sk-estimator:hover {background-color: #d4ebff;}#sk-container-id-2 div.sk-parallel-item::after {content: \"\";width: 100%;border-bottom: 1px solid gray;flex-grow: 1;}#sk-container-id-2 div.sk-label:hover label.sk-toggleable__label {background-color: #d4ebff;}#sk-container-id-2 div.sk-serial::before {content: \"\";position: absolute;border-left: 1px solid gray;box-sizing: border-box;top: 0;bottom: 0;left: 50%;z-index: 0;}#sk-container-id-2 div.sk-serial {display: flex;flex-direction: column;align-items: center;background-color: white;padding-right: 0.2em;padding-left: 0.2em;position: relative;}#sk-container-id-2 div.sk-item {position: relative;z-index: 1;}#sk-container-id-2 div.sk-parallel {display: flex;align-items: stretch;justify-content: center;background-color: white;position: relative;}#sk-container-id-2 div.sk-item::before, #sk-container-id-2 div.sk-parallel-item::before {content: \"\";position: absolute;border-left: 1px solid gray;box-sizing: border-box;top: 0;bottom: 0;left: 50%;z-index: -1;}#sk-container-id-2 div.sk-parallel-item {display: flex;flex-direction: column;z-index: 1;position: relative;background-color: white;}#sk-container-id-2 div.sk-parallel-item:first-child::after {align-self: flex-end;width: 50%;}#sk-container-id-2 div.sk-parallel-item:last-child::after {align-self: flex-start;width: 50%;}#sk-container-id-2 div.sk-parallel-item:only-child::after {width: 0;}#sk-container-id-2 div.sk-dashed-wrapped {border: 1px dashed gray;margin: 0 0.4em 0.5em 0.4em;box-sizing: border-box;padding-bottom: 0.4em;background-color: white;}#sk-container-id-2 div.sk-label label {font-family: monospace;font-weight: bold;display: inline-block;line-height: 1.2em;}#sk-container-id-2 div.sk-label-container {text-align: center;}#sk-container-id-2 div.sk-container {/* jupyter's `normalize.less` sets `[hidden] { display: none; }` but bootstrap.min.css set `[hidden] { display: none !important; }` so we also need the `!important` here to be able to override the default hidden behavior on the sphinx rendered scikit-learn.org. See: https://github.com/scikit-learn/scikit-learn/issues/21755 */display: inline-block !important;position: relative;}#sk-container-id-2 div.sk-text-repr-fallback {display: none;}</style><div id=\"sk-container-id-2\" class=\"sk-top-container\"><div class=\"sk-text-repr-fallback\"><pre>MLPClassifier()</pre><b>In a Jupyter environment, please rerun this cell to show the HTML representation or trust the notebook. <br />On GitHub, the HTML representation is unable to render, please try loading this page with nbviewer.org.</b></div><div class=\"sk-container\" hidden><div class=\"sk-item\"><div class=\"sk-estimator sk-toggleable\"><input class=\"sk-toggleable__control sk-hidden--visually\" id=\"sk-estimator-id-2\" type=\"checkbox\" checked><label for=\"sk-estimator-id-2\" class=\"sk-toggleable__label sk-toggleable__label-arrow\">MLPClassifier</label><div class=\"sk-toggleable__content\"><pre>MLPClassifier()</pre></div></div></div></div></div>"
            ]
          },
          "metadata": {},
          "execution_count": 36
        }
      ]
    },
    {
      "cell_type": "code",
      "source": [
        "svm_predictions = svm_model.predict(X_test_scaled)\n",
        "rf_predictions = rf_model.predict(X_test_scaled)\n",
        "mlp_predictions = mlp_model.predict(X_test_scaled)"
      ],
      "metadata": {
        "id": "ZnO3Gn3SUCqv"
      },
      "execution_count": null,
      "outputs": []
    },
    {
      "cell_type": "code",
      "source": [
        "svm_cm = confusion_matrix(y_test, svm_predictions)\n",
        "rf_cm = confusion_matrix(y_test, rf_predictions)\n",
        "mlp_cm = confusion_matrix(y_test, mlp_predictions)"
      ],
      "metadata": {
        "id": "3dIkBpuxZpun"
      },
      "execution_count": null,
      "outputs": []
    },
    {
      "cell_type": "code",
      "source": [
        "svm_accuracy = accuracy_score(y_test, svm_predictions)\n",
        "svm_precision = precision_score(y_test, svm_predictions, average='weighted')\n",
        "svm_recall = recall_score(y_test, svm_predictions, average='weighted')\n",
        "svm_f1 = f1_score(y_test, svm_predictions, average='weighted')"
      ],
      "metadata": {
        "colab": {
          "base_uri": "https://localhost:8080/"
        },
        "id": "rTVRNG5vZxmS",
        "outputId": "534b0932-32de-4589-b626-bb901296fd30"
      },
      "execution_count": null,
      "outputs": [
        {
          "output_type": "stream",
          "name": "stderr",
          "text": [
            "/usr/local/lib/python3.10/dist-packages/sklearn/metrics/_classification.py:1344: UndefinedMetricWarning: Precision is ill-defined and being set to 0.0 in labels with no predicted samples. Use `zero_division` parameter to control this behavior.\n",
            "  _warn_prf(average, modifier, msg_start, len(result))\n"
          ]
        }
      ]
    },
    {
      "cell_type": "code",
      "source": [
        "rf_accuracy = accuracy_score(y_test, rf_predictions)\n",
        "rf_precision = precision_score(y_test, rf_predictions, average='weighted')\n",
        "rf_recall = recall_score(y_test, rf_predictions, average='weighted')\n",
        "rf_f1 = f1_score(y_test, rf_predictions, average='weighted')\n"
      ],
      "metadata": {
        "id": "p5dhhjNEZzdJ"
      },
      "execution_count": null,
      "outputs": []
    },
    {
      "cell_type": "code",
      "source": [
        "mlp_accuracy = accuracy_score(y_test, mlp_predictions)\n",
        "mlp_precision = precision_score(y_test, mlp_predictions, average='weighted')\n",
        "mlp_recall = recall_score(y_test, mlp_predictions, average='weighted')\n",
        "mlp_f1 = f1_score(y_test, mlp_predictions, average='weighted')"
      ],
      "metadata": {
        "id": "4HGdX5aXZ47C"
      },
      "execution_count": null,
      "outputs": []
    },
    {
      "cell_type": "code",
      "source": [
        "print(\"SVM:\")\n",
        "print(\"Accuracy:\", svm_accuracy)\n",
        "print(\"Precision:\", svm_precision)\n",
        "print(\"Recall:\", svm_recall)\n",
        "print(\"F1-Score:\", svm_f1)\n",
        "print(\"Confusion Matrix:\")\n",
        "print(svm_cm)"
      ],
      "metadata": {
        "colab": {
          "base_uri": "https://localhost:8080/"
        },
        "id": "o90Cyk1YZ-zO",
        "outputId": "ff593070-7365-47a2-deb7-9b35199b02f6"
      },
      "execution_count": null,
      "outputs": [
        {
          "output_type": "stream",
          "name": "stdout",
          "text": [
            "SVM:\n",
            "Accuracy: 0.9517565200467107\n",
            "Precision: 0.9502350654818676\n",
            "Recall: 0.9517565200467107\n",
            "F1-Score: 0.949315659359735\n",
            "Confusion Matrix:\n",
            "[[  281     0     0     0     0     0     0     0     0     0     8    30\n",
            "     32]\n",
            " [    0   585    25     0     0     8     0     0     0     0     3     8\n",
            "    130]\n",
            " [    0    47   557     0     3    11     0     0     0     2    28    91\n",
            "    364]\n",
            " [    0     0     0   108     0     0     0     0     0     0     0    10\n",
            "      9]\n",
            " [    2     0     0     0   129     0     0     0     0     0    17     0\n",
            "      3]\n",
            " [    0     2     1     0     0   866     0     0     0     6     0     6\n",
            "    152]\n",
            " [    0     0     0     0     0     0  4992     0     0     0    35     0\n",
            "      0]\n",
            " [    0     0     0     0     0     0     0     0     2     0     0     0\n",
            "     23]\n",
            " [    1     0     0     0     0     0     0     0    88     0    16     0\n",
            "     60]\n",
            " [    0     0     1     0     0    18     0     0     0   179     0     0\n",
            "     29]\n",
            " [    2    45    13     4     0    11    63     0     0     1 14804    61\n",
            "    101]\n",
            " [    4     2    39     0     0     0     0     0     0     1    42  3803\n",
            "     71]\n",
            " [   24    38    24     2     0    27     0     0    11     0    59   155\n",
            "  12729]]\n"
          ]
        }
      ]
    },
    {
      "cell_type": "code",
      "source": [
        "print(\"\\nRandom Forest:\")\n",
        "print(\"Accuracy:\", rf_accuracy)\n",
        "print(\"Precision:\", rf_precision)\n",
        "print(\"Recall:\", rf_recall)\n",
        "print(\"F1-Score:\", rf_f1)\n",
        "print(\"Confusion Matrix:\")\n",
        "print(rf_cm)"
      ],
      "metadata": {
        "colab": {
          "base_uri": "https://localhost:8080/"
        },
        "id": "rjK6OMEebBKC",
        "outputId": "a71730a1-c6c4-463e-cfd5-71b015891656"
      },
      "execution_count": null,
      "outputs": [
        {
          "output_type": "stream",
          "name": "stdout",
          "text": [
            "\n",
            "Random Forest:\n",
            "Accuracy: 0.9996594005449592\n",
            "Precision: 0.9996596460622597\n",
            "Recall: 0.9996594005449592\n",
            "F1-Score: 0.9996587470747594\n",
            "Confusion Matrix:\n",
            "[[  351     0     0     0     0     0     0     0     0     0     0     0\n",
            "      0]\n",
            " [    0   757     0     0     0     0     0     0     0     0     0     0\n",
            "      2]\n",
            " [    0     0  1101     0     0     0     0     0     0     0     0     0\n",
            "      2]\n",
            " [    0     0     0   127     0     0     0     0     0     0     0     0\n",
            "      0]\n",
            " [    0     0     0     0   150     0     0     0     0     0     0     0\n",
            "      1]\n",
            " [    0     0     0     0     0  1031     0     0     0     0     0     0\n",
            "      2]\n",
            " [    0     0     0     0     0     0  5027     0     0     0     0     0\n",
            "      0]\n",
            " [    0     0     0     0     0     0     0    25     0     0     0     0\n",
            "      0]\n",
            " [    0     0     0     0     0     0     0     0   161     0     0     0\n",
            "      4]\n",
            " [    0     0     0     0     0     1     0     0     0   226     0     0\n",
            "      0]\n",
            " [    0     0     0     0     0     0     0     0     0     0 15105     0\n",
            "      0]\n",
            " [    0     0     0     0     0     0     0     0     0     0     0  3961\n",
            "      1]\n",
            " [    0     0     0     0     0     1     0     0     0     0     0     0\n",
            "  13068]]\n"
          ]
        }
      ]
    },
    {
      "cell_type": "code",
      "source": [
        "print(\"\\nMLP Neural Network:\")\n",
        "print(\"Accuracy:\", mlp_accuracy)\n",
        "print(\"Precision:\", mlp_precision)\n",
        "print(\"Recall:\", mlp_recall)\n",
        "print(\"F1-Score:\", mlp_f1)\n",
        "print(\"Confusion Matrix:\")\n",
        "print(mlp_cm)"
      ],
      "metadata": {
        "colab": {
          "base_uri": "https://localhost:8080/"
        },
        "id": "QEFe6or5bHTZ",
        "outputId": "17a5a29b-15fd-489c-e609-0c37b9229c7d"
      },
      "execution_count": null,
      "outputs": [
        {
          "output_type": "stream",
          "name": "stdout",
          "text": [
            "\n",
            "MLP Neural Network:\n",
            "Accuracy: 0.9872275204359673\n",
            "Precision: 0.9871661863480028\n",
            "Recall: 0.9872275204359673\n",
            "F1-Score: 0.9871570824162323\n",
            "Confusion Matrix:\n",
            "[[  339     0     1     0     0     0     0     0     0     0     1     6\n",
            "      4]\n",
            " [    0   708     8     0     0     4     0     0     0     0     0     6\n",
            "     33]\n",
            " [    1     8   999     0     0     2     1     0     1     0     6    10\n",
            "     75]\n",
            " [    0     0     0   127     0     0     0     0     0     0     0     0\n",
            "      0]\n",
            " [    0     0     0     0   151     0     0     0     0     0     0     0\n",
            "      0]\n",
            " [    0     6     1     0     0   955     0     0     0     6     0     2\n",
            "     63]\n",
            " [    0     0     1     0     0     0  5026     0     0     0     0     0\n",
            "      0]\n",
            " [    0     0     0     0     0     0     0    21     2     0     0     0\n",
            "      2]\n",
            " [    0     0     0     0     0     0     0     1   142     0     2     0\n",
            "     20]\n",
            " [    0     0     1     0     0     3     0     0     0   215     0     1\n",
            "      7]\n",
            " [    1     3     6     0     0     1     0     0     0     0 15056    11\n",
            "     27]\n",
            " [    3     3    16     2     0     0     0     0     0     0     0  3917\n",
            "     21]\n",
            " [   11    18    37     0     0    12     3     1     8     0    16    40\n",
            "  12923]]\n"
          ]
        }
      ]
    },
    {
      "cell_type": "code",
      "source": [
        "if svm_accuracy > rf_accuracy and svm_accuracy > mlp_accuracy:\n",
        "    best_model = 'Support Vector Machine'\n",
        "elif rf_accuracy > svm_accuracy and rf_accuracy > mlp_accuracy:\n",
        "    best_model = 'Random Forest'\n",
        "else:\n",
        "    best_model = 'Multi-Layer Perceptron Neural Network'\n",
        "\n",
        "print(\"Based on the evaluation metrics, the best-performing model is:\", best_model)"
      ],
      "metadata": {
        "colab": {
          "base_uri": "https://localhost:8080/"
        },
        "id": "OSY7agnibd65",
        "outputId": "77cf4dc5-43a2-4be9-b7bb-47a7f1e278a1"
      },
      "execution_count": null,
      "outputs": [
        {
          "output_type": "stream",
          "name": "stdout",
          "text": [
            "Based on the evaluation metrics, the best-performing model is: Random Forest\n"
          ]
        }
      ]
    }
  ]
}